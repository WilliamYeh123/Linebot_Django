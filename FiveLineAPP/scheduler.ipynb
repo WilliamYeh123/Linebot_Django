{
 "cells": [
  {
   "cell_type": "code",
   "execution_count": 1,
   "id": "d681ac8b",
   "metadata": {},
   "outputs": [],
   "source": [
    "from apscheduler.schedulers.blocking import BlockingScheduler\n",
    "\n",
    "from datetime import datetime\n",
    "import reply_message_new,fl"
   ]
  },
  {
   "cell_type": "code",
   "execution_count": null,
   "id": "04595c6c",
   "metadata": {},
   "outputs": [
    {
     "name": "stderr",
     "output_type": "stream",
     "text": [
      "/home/awinlab/anaconda3/envs/fl/lib/python3.7/site-packages/apscheduler/util.py:436: PytzUsageWarning: The localize method is no longer necessary, as this time zone supports the fold attribute (PEP 495). For more details on migrating to a PEP 495-compliant implementation, see https://pytz-deprecation-shim.readthedocs.io/en/latest/migration.html\n",
      "  return tzinfo.localize(dt)\n",
      "/home/awinlab/Documents/yeh/LineBot/FiveLineAPP/fl.py:57: GuessedAtParserWarning: No parser was explicitly specified, so I'm using the best available HTML parser for this system (\"lxml\"). This usually isn't a problem, but if you run this code on another system, or in a different virtual environment, it may use a different parser and behave differently.\n",
      "\n",
      "The code that caused this warning is on line 57 of the file /home/awinlab/Documents/yeh/LineBot/FiveLineAPP/fl.py. To get rid of this warning, pass the additional argument 'features=\"lxml\"' to the BeautifulSoup constructor.\n",
      "\n",
      "  soup = BeautifulSoup(data.text)\n",
      "/home/awinlab/anaconda3/envs/fl/lib/python3.7/site-packages/apscheduler/util.py:436: PytzUsageWarning: The localize method is no longer necessary, as this time zone supports the fold attribute (PEP 495). For more details on migrating to a PEP 495-compliant implementation, see https://pytz-deprecation-shim.readthedocs.io/en/latest/migration.html\n",
      "  return tzinfo.localize(dt)\n",
      "/home/awinlab/Documents/yeh/LineBot/FiveLineAPP/fl.py:57: GuessedAtParserWarning: No parser was explicitly specified, so I'm using the best available HTML parser for this system (\"lxml\"). This usually isn't a problem, but if you run this code on another system, or in a different virtual environment, it may use a different parser and behave differently.\n",
      "\n",
      "The code that caused this warning is on line 57 of the file /home/awinlab/Documents/yeh/LineBot/FiveLineAPP/fl.py. To get rid of this warning, pass the additional argument 'features=\"lxml\"' to the BeautifulSoup constructor.\n",
      "\n",
      "  soup = BeautifulSoup(data.text)\n",
      "/home/awinlab/anaconda3/envs/fl/lib/python3.7/site-packages/apscheduler/util.py:436: PytzUsageWarning: The localize method is no longer necessary, as this time zone supports the fold attribute (PEP 495). For more details on migrating to a PEP 495-compliant implementation, see https://pytz-deprecation-shim.readthedocs.io/en/latest/migration.html\n",
      "  return tzinfo.localize(dt)\n",
      "/home/awinlab/Documents/yeh/LineBot/FiveLineAPP/fl.py:57: GuessedAtParserWarning: No parser was explicitly specified, so I'm using the best available HTML parser for this system (\"lxml\"). This usually isn't a problem, but if you run this code on another system, or in a different virtual environment, it may use a different parser and behave differently.\n",
      "\n",
      "The code that caused this warning is on line 57 of the file /home/awinlab/Documents/yeh/LineBot/FiveLineAPP/fl.py. To get rid of this warning, pass the additional argument 'features=\"lxml\"' to the BeautifulSoup constructor.\n",
      "\n",
      "  soup = BeautifulSoup(data.text)\n"
     ]
    }
   ],
   "source": [
    "sched = BlockingScheduler()\n",
    "\n",
    "\n",
    "sched.add_job(reply_message_new.reply, 'cron', hour='15', minute='30',)\n",
    "\n",
    "sched.start()"
   ]
  },
  {
   "cell_type": "code",
   "execution_count": null,
   "id": "422a11ea",
   "metadata": {},
   "outputs": [],
   "source": []
  }
 ],
 "metadata": {
  "kernelspec": {
   "display_name": "Python 3 (ipykernel)",
   "language": "python",
   "name": "python3"
  },
  "language_info": {
   "codemirror_mode": {
    "name": "ipython",
    "version": 3
   },
   "file_extension": ".py",
   "mimetype": "text/x-python",
   "name": "python",
   "nbconvert_exporter": "python",
   "pygments_lexer": "ipython3",
   "version": "3.9.7"
  }
 },
 "nbformat": 4,
 "nbformat_minor": 5
}
