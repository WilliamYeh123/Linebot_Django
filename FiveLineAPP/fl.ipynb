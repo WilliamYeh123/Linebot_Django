{
 "cells": [
  {
   "cell_type": "code",
   "execution_count": 1,
   "id": "d24ab0d1",
   "metadata": {},
   "outputs": [],
   "source": [
    "import yfinance as yf\n",
    "import os\n",
    "import sqlite3\n",
    "from pathlib import Path\n",
    "import datetime\n",
    "import pandas as pd\n",
    "import numpy as np\n",
    "import datetime,time,re\n",
    "from sklearn.linear_model import LinearRegression\n",
    "import requests\n",
    "from bs4 import BeautifulSoup\n",
    "\n",
    "today = datetime.date.today()\n",
    "end = today - datetime.timedelta(days=1)\n",
    "start = end - datetime.timedelta(days=365*3.5)\n",
    "\n",
    "dict_from_ETF_list = pd.read_excel(\"/home/awinlab/Documents/yeh/LineBot/FiveLineAPP/ETF_list.xlsx\")\n",
    "ETF_list = dict_from_ETF_list['Number']"
   ]
  },
  {
   "cell_type": "code",
   "execution_count": 2,
   "id": "fd108abb",
   "metadata": {},
   "outputs": [
    {
     "data": {
      "text/plain": [
       "0        0050\n",
       "1        0051\n",
       "2        0052\n",
       "3        0053\n",
       "4        0054\n",
       "        ...  \n",
       "135    00684R\n",
       "136    00706L\n",
       "137    00707R\n",
       "138    00708L\n",
       "139    00715L\n",
       "Name: Number, Length: 140, dtype: object"
      ]
     },
     "execution_count": 2,
     "metadata": {},
     "output_type": "execute_result"
    }
   ],
   "source": [
    "ETF_list"
   ]
  },
  {
   "cell_type": "code",
   "execution_count": 3,
   "id": "022b6c22",
   "metadata": {},
   "outputs": [],
   "source": [
    "def five_line(data):   \n",
    "    timetrend = list(range(1, data.shape[0]+1))\n",
    "    data['timetrend'] = timetrend\n",
    "    data = data[['timetrend','Close']]\n",
    "    data = data.dropna()\n",
    "    reg = LinearRegression()\n",
    "    x = data['timetrend'].to_frame()\n",
    "    y = data['Close'].to_frame()\n",
    "    reg.fit(x,y)\n",
    "    \n",
    "    a = reg.intercept_ #截距\n",
    "    beta = reg.coef_ #斜率\n",
    "    #print(beta)\n",
    "    #beta = beta[0][0]\n",
    "    #print(beta)\n",
    "    longtrend = a + beta*x\n",
    "    res = np.array(list(data['Close'])) - np.array(list(longtrend['timetrend']))\n",
    "    std = np.std(res,ddof=1)\n",
    "    fiveline = pd.DataFrame()\n",
    "    fiveline['highest'] = longtrend['timetrend'] + (2*std)\n",
    "    fiveline['high'] = longtrend['timetrend'] + (1*std)\n",
    "    fiveline['TL'] = longtrend['timetrend']\n",
    "    fiveline['low'] = longtrend['timetrend'] - (1*std)\n",
    "    fiveline['lowest'] = longtrend['timetrend'] - (2*std) \n",
    "    use_fiveline = pd.merge(data, fiveline[['highest','high','TL','low','lowest']], left_index=True, right_index=True, how='left')\n",
    "    pick_fiveline = use_fiveline[['Close','highest','high','TL','low','lowest']]\n",
    "    return pick_fiveline,beta"
   ]
  },
  {
   "cell_type": "code",
   "execution_count": 4,
   "id": "2bbdf4a6",
   "metadata": {},
   "outputs": [],
   "source": [
    "def stock_price(stock:str):\n",
    "    headers={\n",
    "        \"User-Agent\":\"Mozilla/5.0 (Windows NT 6.1; WOW64) AppleWebKit/537.36 (KHTML, like Gecko) Chrome/65.0.3325.146 Safari/537.36\"\n",
    "    }\n",
    "\n",
    "    data = requests.get(f\"https://finance.yahoo.com/quote/{stock}.TW?p={stock}.TW\", headers = headers)\n",
    "    soup = BeautifulSoup(data.text)\n",
    "    price = soup.find('fin-streamer',{'class':'Fw(b) Fz(36px) Mb(-4px) D(ib)'})\n",
    "    return price.text"
   ]
  },
  {
   "cell_type": "code",
   "execution_count": 5,
   "id": "b115fc6c",
   "metadata": {},
   "outputs": [],
   "source": [
    "etf_data = {}\n",
    "slope = []\n",
    "reply = ''\n",
    "\n",
    "def fiveline():\n",
    "    conn = sqlite3.connect('/home/awinlab/Documents/yeh/LineBot/FiveLineAPP/ETF_list.db')\n",
    "    cursor = conn.cursor()\n",
    "    for i in ETF_list:\n",
    "        sql =f\"select * from Strategy_data where Number = '{i}'\"\n",
    "        cursor.execute(sql)\n",
    "        data = cursor.fetchall()\n",
    "        df = pd.DataFrame(data)\n",
    "        df = df.drop([1,8,9,10,11,12],axis =1)\n",
    "\n",
    "        df.set_axis(['Date', 'Close', 'highest','high','TL','low','lowest'], axis='columns', inplace=True)\n",
    "        df.set_index('Date', inplace = True)\n",
    "        df2,beta = five_line(df)\n",
    "        \n",
    "        beta = beta.tolist() \n",
    "        #print(beta)\n",
    "        beta = beta[0][0]\n",
    "        #print(beta)\n",
    "        slope.append((i,beta)) #(ETF_ID, 斜率)存入slope\n",
    "        #print(slope)\n",
    "        etf_data[i] = df2 \n",
    "        #print('df2 :',df2)\n",
    "    #print(slope)\n",
    "    slope.sort(key = lambda s: s[1]) #根據斜率排序\n",
    "    slope.reverse() #由大到小\n",
    "    #print('slope :',slope)\n",
    "    #print(etf_data)\n",
    "        \n",
    "    #print(total_data)\n",
    "    #print(total_data[0][1][0])\n",
    "    recommend_count = 5 #推薦個數\n",
    "    recommended = 0 \n",
    "    reply = ''\n",
    "    chosen = []\n",
    "    for i in slope:\n",
    "        temp_data = etf_data[i[0]]\n",
    "        #print('temp data :',temp_data)\n",
    "        price = stock_price(i[0])\n",
    "        #print('price :',price)\n",
    "        if temp_data.iat[-1,-6] < temp_data.iat[-1,-2]:\n",
    "            reply += i[0]+'.TW低於悲觀線，股票價格 : '+price+'，可買進\\n'\n",
    "            recommended += 1\n",
    "            chosen.append(i[0])\n",
    "            if recommended == recommend_count:\n",
    "                break\n",
    "            else:continue\n",
    "            #return reply\n",
    "        else:continue\n",
    "        if reply == '':\n",
    "            return 'none'\n",
    "    return reply,chosen"
   ]
  },
  {
   "cell_type": "code",
   "execution_count": 6,
   "id": "20b422e2",
   "metadata": {},
   "outputs": [
    {
     "name": "stdout",
     "output_type": "stream",
     "text": [
      "00631L.TW低於悲觀線，股票價格 : 107.10，可買進\n",
      "00663L.TW低於悲觀線，股票價格 : 97.45，可買進\n",
      "0052.TW低於悲觀線，股票價格 : 100.30，可買進\n",
      "00670L.TW低於悲觀線，股票價格 : 56.25，可買進\n",
      "0050.TW低於悲觀線，股票價格 : 120.85，可買進\n",
      "\n"
     ]
    }
   ],
   "source": [
    "a, b = fiveline()\n",
    "print(a)"
   ]
  },
  {
   "cell_type": "code",
   "execution_count": null,
   "id": "fa279d72",
   "metadata": {},
   "outputs": [],
   "source": []
  }
 ],
 "metadata": {
  "kernelspec": {
   "display_name": "fl",
   "language": "python",
   "name": "fl"
  },
  "language_info": {
   "codemirror_mode": {
    "name": "ipython",
    "version": 3
   },
   "file_extension": ".py",
   "mimetype": "text/x-python",
   "name": "python",
   "nbconvert_exporter": "python",
   "pygments_lexer": "ipython3",
   "version": "3.7.13"
  }
 },
 "nbformat": 4,
 "nbformat_minor": 5
}
