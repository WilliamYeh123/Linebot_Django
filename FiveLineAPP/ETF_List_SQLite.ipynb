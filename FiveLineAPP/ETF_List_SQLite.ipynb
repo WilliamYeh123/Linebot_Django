{
 "cells": [
  {
   "cell_type": "code",
   "execution_count": 8,
   "id": "899bce6e",
   "metadata": {},
   "outputs": [],
   "source": [
    "import sqlite3, time\n",
    "from pandas.io import sql\n",
    "import yfinance as yf\n",
    "import ta\n",
    "import requests\n",
    "import pandas as pd\n",
    "import numpy as np\n",
    "import datetime,time,re\n",
    "import mplfinance as mpf\n",
    "from bs4 import BeautifulSoup\n",
    "from sklearn.linear_model import LinearRegression"
   ]
  },
  {
   "cell_type": "code",
   "execution_count": 9,
   "id": "348852ac",
   "metadata": {},
   "outputs": [],
   "source": [
    "dict_from_ETF_list = pd.read_excel(\"ETF_list.xlsx\")\n",
    "ETF_list = dict_from_ETF_list['Number']\n",
    "\n",
    "today = datetime.date.today()\n",
    "end = today - datetime.timedelta(days=1)\n",
    "start = end - datetime.timedelta(days=365*3.5)"
   ]
  },
  {
   "cell_type": "code",
   "execution_count": 10,
   "id": "6f0379c2",
   "metadata": {},
   "outputs": [],
   "source": [
    "conn = sqlite3.connect('ETF_list.db')\n",
    "cursor = conn.cursor()"
   ]
  },
  {
   "cell_type": "code",
   "execution_count": 11,
   "id": "d03b74ba",
   "metadata": {},
   "outputs": [],
   "source": [
    "conn.execute('''CREATE TABLE if not exists ETF_data\n",
    "       (Date date ,\n",
    "       Number TEXT ,\n",
    "       Open FLOAT,\n",
    "       High FLOAT,\n",
    "       Low FLOAT,\n",
    "       Close FLOAT,\n",
    "       Volume TEXT,\n",
    "       primary key (Date, Number));''')\n",
    "conn.commit()"
   ]
  },
  {
   "cell_type": "code",
   "execution_count": 13,
   "id": "91b8a271",
   "metadata": {},
   "outputs": [
    {
     "name": "stdout",
     "output_type": "stream",
     "text": [
      "[*********************100%***********************]  1 of 1 completed\n",
      "\n",
      "1 Failed download:\n",
      "- F0HKG05WWU:FO: No data found, symbol may be delisted\n"
     ]
    }
   ],
   "source": [
    "df = yf.download(\"F0HKG05WWU:FO\", start = str(start), end = str(end))"
   ]
  },
  {
   "cell_type": "code",
   "execution_count": 12,
   "id": "e4d26b80",
   "metadata": {},
   "outputs": [
    {
     "name": "stdout",
     "output_type": "stream",
     "text": [
      "0050\n",
      "[*********************100%***********************]  1 of 1 completed\n"
     ]
    },
    {
     "name": "stderr",
     "output_type": "stream",
     "text": [
      "C:\\Users\\willi\\AppData\\Local\\Temp/ipykernel_24820/184870118.py:15: SettingWithCopyWarning: \n",
      "A value is trying to be set on a copy of a slice from a DataFrame.\n",
      "Try using .loc[row_indexer,col_indexer] = value instead\n",
      "\n",
      "See the caveats in the documentation: https://pandas.pydata.org/pandas-docs/stable/user_guide/indexing.html#returning-a-view-versus-a-copy\n",
      "  pick_df['Volume'] = pick_df['Volume'].map('{}'.format)\n"
     ]
    },
    {
     "ename": "IntegrityError",
     "evalue": "UNIQUE constraint failed: ETF_data.Date, ETF_data.Number",
     "output_type": "error",
     "traceback": [
      "\u001b[1;31m---------------------------------------------------------------------------\u001b[0m",
      "\u001b[1;31mIntegrityError\u001b[0m                            Traceback (most recent call last)",
      "\u001b[1;32m~\\AppData\\Local\\Temp/ipykernel_24820/184870118.py\u001b[0m in \u001b[0;36m<module>\u001b[1;34m\u001b[0m\n\u001b[0;32m     29\u001b[0m         \u001b[1;31m#print(pick_df.iloc[i][6])\u001b[0m\u001b[1;33m\u001b[0m\u001b[1;33m\u001b[0m\u001b[0m\n\u001b[0;32m     30\u001b[0m         \u001b[1;31m#print(type(pick_df.iloc[i][6]))\u001b[0m\u001b[1;33m\u001b[0m\u001b[1;33m\u001b[0m\u001b[0m\n\u001b[1;32m---> 31\u001b[1;33m         \u001b[0mcursor\u001b[0m\u001b[1;33m.\u001b[0m\u001b[0mexecute\u001b[0m\u001b[1;33m(\u001b[0m\u001b[1;34m'insert into ETF_data(Date, Number, Open, High, Low, Close, Volume) VALUES (?, ?, ?, ?, ?, ?, ?)'\u001b[0m\u001b[1;33m,\u001b[0m \u001b[0mtuple\u001b[0m\u001b[1;33m(\u001b[0m\u001b[0mpick_df\u001b[0m\u001b[1;33m.\u001b[0m\u001b[0miloc\u001b[0m\u001b[1;33m[\u001b[0m\u001b[0mi\u001b[0m\u001b[1;33m]\u001b[0m\u001b[1;33m)\u001b[0m\u001b[1;33m)\u001b[0m\u001b[1;33m\u001b[0m\u001b[1;33m\u001b[0m\u001b[0m\n\u001b[0m\u001b[0;32m     32\u001b[0m         \u001b[0mconn\u001b[0m\u001b[1;33m.\u001b[0m\u001b[0mcommit\u001b[0m\u001b[1;33m(\u001b[0m\u001b[1;33m)\u001b[0m\u001b[1;33m\u001b[0m\u001b[1;33m\u001b[0m\u001b[0m\n\u001b[0;32m     33\u001b[0m         \u001b[1;31m#(pick_df[0][0], pick_df[0][1], ,,,)\u001b[0m\u001b[1;33m\u001b[0m\u001b[1;33m\u001b[0m\u001b[0m\n",
      "\u001b[1;31mIntegrityError\u001b[0m: UNIQUE constraint failed: ETF_data.Date, ETF_data.Number"
     ]
    }
   ],
   "source": [
    "#ETF_list = ['0050']\n",
    "for i in ETF_list:\n",
    "    print(i)\n",
    "    df = yf.download(f\"{i}.TW\", start = str(start), end = str(end))\n",
    "    if df.empty:\n",
    "            print('no data today')\n",
    "            continue\n",
    "    df['Number'] = f'{i}'\n",
    "    df['Date'] = df.index.strftime(\"%Y-%m-%d\")\n",
    "    pick_df = df[['Date', 'Number','Open', 'High', 'Low', 'Close', 'Volume']]\n",
    "\n",
    "    #print(pick_df.index)\n",
    "    #print(pick_df)\n",
    "    #print('股票：',i, pick_df)\n",
    "    pick_df['Volume'] = pick_df['Volume'].map('{}'.format)\n",
    "\n",
    "    #print(tuple(pick_df.iloc[0]))\n",
    "    #print(len(pick_df))\n",
    "\n",
    "    for i in range(len(pick_df)):\n",
    "        #pick_df[i][6] = pick_df[i][6].astype(str)\n",
    "        #print(type(pick_df.iloc[i][6]))\n",
    "        #pick_df.iloc[i][6] = str(pick_df.iloc[i][6])\n",
    "        #a = \"{}\".format(pick_df.iloc[i][6])\n",
    "        #print(a)\n",
    "        #print(type(a))\n",
    "        #pick_df.iloc[i][6] = 10\n",
    "        #pick_df[i]['Volume'] = \n",
    "        #print(pick_df.iloc[i][6])\n",
    "        #print(type(pick_df.iloc[i][6]))\n",
    "        cursor.execute('insert into ETF_data(Date, Number, Open, High, Low, Close, Volume) VALUES (?, ?, ?, ?, ?, ?, ?)', tuple(pick_df.iloc[i]))\n",
    "        conn.commit()\n",
    "        #(pick_df[0][0], pick_df[0][1], ,,,)"
   ]
  },
  {
   "cell_type": "markdown",
   "id": "46eca49d",
   "metadata": {},
   "source": [
    "## sql = \"select * from ETF_data where Number = '0050'\"\n",
    "cursor.execute(sql)\n",
    "rows = cursor.fetchall()\n",
    "print(rows)"
   ]
  },
  {
   "cell_type": "code",
   "execution_count": 7,
   "id": "a5c1263c",
   "metadata": {},
   "outputs": [
    {
     "ename": "OperationalError",
     "evalue": "near \"|\": syntax error",
     "output_type": "error",
     "traceback": [
      "\u001b[1;31m---------------------------------------------------------------------------\u001b[0m",
      "\u001b[1;31mOperationalError\u001b[0m                          Traceback (most recent call last)",
      "\u001b[1;32m~\\AppData\\Local\\Temp/ipykernel_24820/3329012003.py\u001b[0m in \u001b[0;36m<module>\u001b[1;34m\u001b[0m\n\u001b[0;32m      1\u001b[0m \u001b[1;31m#刪除資料表\u001b[0m\u001b[1;33m\u001b[0m\u001b[1;33m\u001b[0m\u001b[0m\n\u001b[0;32m      2\u001b[0m \u001b[0msql\u001b[0m \u001b[1;33m=\u001b[0m \u001b[1;34m\"DROP |TABLE ETF_data\"\u001b[0m\u001b[1;33m\u001b[0m\u001b[1;33m\u001b[0m\u001b[0m\n\u001b[1;32m----> 3\u001b[1;33m \u001b[0mcursor\u001b[0m\u001b[1;33m.\u001b[0m\u001b[0mexecute\u001b[0m\u001b[1;33m(\u001b[0m\u001b[0msql\u001b[0m\u001b[1;33m)\u001b[0m\u001b[1;33m\u001b[0m\u001b[1;33m\u001b[0m\u001b[0m\n\u001b[0m",
      "\u001b[1;31mOperationalError\u001b[0m: near \"|\": syntax error"
     ]
    }
   ],
   "source": [
    "#刪除資料表\n",
    "sql = \"DROP TABLE ETF_data\"\n",
    "cursor.execute(sql)"
   ]
  },
  {
   "cell_type": "code",
   "execution_count": null,
   "id": "d9580e32",
   "metadata": {},
   "outputs": [],
   "source": []
  }
 ],
 "metadata": {
  "kernelspec": {
   "display_name": "Python 3 (ipykernel)",
   "language": "python",
   "name": "python3"
  },
  "language_info": {
   "codemirror_mode": {
    "name": "ipython",
    "version": 3
   },
   "file_extension": ".py",
   "mimetype": "text/x-python",
   "name": "python",
   "nbconvert_exporter": "python",
   "pygments_lexer": "ipython3",
   "version": "3.9.7"
  }
 },
 "nbformat": 4,
 "nbformat_minor": 5
}
